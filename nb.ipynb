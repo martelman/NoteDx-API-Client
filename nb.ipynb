{
 "cells": [
  {
   "cell_type": "code",
   "execution_count": null,
   "metadata": {},
   "outputs": [],
   "source": [
    "#!/usr/bin/env python3\n",
    "\n",
    "\"\"\"\n",
    "NoteDx API Client Setup Script\n",
    "This script demonstrates how to initialize and configure the NoteDx API client\n",
    "with different authentication methods.\n",
    "\"\"\"\n",
    "\n",
    "from src.notedx_sdk.client import NoteDxClient\n",
    "import sys\n",
    "import os\n",
    "import logging\n",
    "from typing import Optional\n",
    "\n",
    "# Configure logging\n",
    "logging.basicConfig(level=logging.DEBUG)\n",
    "logger = logging.getLogger(__name__)\n",
    "\n",
    "# Print current working directory and Python path for debugging\n",
    "logger.info(f\"Current working directory: {os.getcwd()}\")\n",
    "logger.info(f\"Python path: {sys.path}\")\n",
    "\n",
    "# Add current directory to Python path instead of parent\n",
    "sys.path.append(os.getcwd())\n",
    "logger.info(f\"Added to path: {os.getcwd()}\")"
   ]
  },
  {
   "cell_type": "code",
   "execution_count": null,
   "metadata": {},
   "outputs": [],
   "source": [
    "client = NoteDxClient(\n",
    "    base_url=\"https://36c498e49l.execute-api.ca-central-1.amazonaws.com/dev\",\n",
    "    email=\"martelman@gmail.com\",\n",
    "    password=\"5Uen1ioc_!\",\n",
    "    api_key=\"lk-1da3ec6dfd5d4a8d8ee4b09e\",\n",
    "    auto_login=True)"
   ]
  },
  {
   "cell_type": "code",
   "execution_count": 3,
   "metadata": {},
   "outputs": [],
   "source": [
    "# client.change_password(current_password=\"5uen1ioc\", new_password=\"5Uen1ioc_!\")"
   ]
  },
  {
   "cell_type": "code",
   "execution_count": null,
   "metadata": {},
   "outputs": [],
   "source": [
    "client.account.update_account(\n",
    "    company_name=\"BROOOSKI inc\",\n",
    ")"
   ]
  },
  {
   "cell_type": "code",
   "execution_count": null,
   "metadata": {},
   "outputs": [],
   "source": [
    "client.account.get_account()"
   ]
  },
  {
   "cell_type": "code",
   "execution_count": null,
   "metadata": {},
   "outputs": [],
   "source": [
    "client.webhooks.update_webhook_settings(\n",
    "    webhook_dev=\"https://webhook.site/2cdbd04b-c66e-4418-a3ca-958642afb7a2\",\n",
    "    webhook_prod=\"https://webhook.site/2cdbd04b-c66e-4418-a3ca-958642afb7a2\"\n",
    ")"
   ]
  },
  {
   "cell_type": "code",
   "execution_count": null,
   "metadata": {},
   "outputs": [],
   "source": [
    "r = client.scribe.process_audio(\n",
    "    visit_type='initialEncounter',\n",
    "    recording_type='dictation',\n",
    "    lang='en',\n",
    "    output_language='en',\n",
    "    template='primaryCare',\n",
    "    patient_consent=True,\n",
    "    file_path='test_audio_en.mp3'\n",
    ")"
   ]
  },
  {
   "cell_type": "code",
   "execution_count": null,
   "metadata": {},
   "outputs": [],
   "source": [
    "client.scribe.fetch_status(job_id='bf781862-c7a9-47fd-8116-4ffee91046b5')"
   ]
  },
  {
   "cell_type": "code",
   "execution_count": null,
   "metadata": {},
   "outputs": [],
   "source": [
    "client.scribe.fetch_note(job_id='bf781862-c7a9-47fd-8116-4ffee91046b5')"
   ]
  },
  {
   "cell_type": "code",
   "execution_count": null,
   "metadata": {},
   "outputs": [],
   "source": [
    "client.account.get_account()"
   ]
  },
  {
   "cell_type": "code",
   "execution_count": null,
   "metadata": {},
   "outputs": [],
   "source": [
    "client.usage.get(start_month='2024-01', end_month='2025-01')"
   ]
  },
  {
   "cell_type": "code",
   "execution_count": null,
   "metadata": {},
   "outputs": [],
   "source": [
    "client.keys.list_api_keys(show_full=True)"
   ]
  },
  {
   "cell_type": "code",
   "execution_count": null,
   "metadata": {},
   "outputs": [],
   "source": [
    "client.keys.create_api_key(key_type='live', metadata={'test': 'test'})"
   ]
  },
  {
   "cell_type": "code",
   "execution_count": null,
   "metadata": {},
   "outputs": [],
   "source": [
    "client.keys.update_metadata(\n",
    "    api_key='lk-1da3ec6dfd5d4a8d8ee4b09e', metadata={'brooski': 'test'})"
   ]
  }
 ],
 "metadata": {
  "kernelspec": {
   "display_name": "Python 3",
   "language": "python",
   "name": "python3"
  },
  "language_info": {
   "codemirror_mode": {
    "name": "ipython",
    "version": 3
   },
   "file_extension": ".py",
   "mimetype": "text/x-python",
   "name": "python",
   "nbconvert_exporter": "python",
   "pygments_lexer": "ipython3",
   "version": "3.10.7"
  }
 },
 "nbformat": 4,
 "nbformat_minor": 2
}
