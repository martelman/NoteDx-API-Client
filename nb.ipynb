{
 "cells": [
  {
   "cell_type": "code",
   "execution_count": null,
   "metadata": {},
   "outputs": [],
   "source": [
    "from notedx_sdk.client import NoteDxClient\n",
    "\n",
    "BASE_URL = \"https://36c498e49l.execute-api.ca-central-1.amazonaws.com/dev\"\n",
    "\n",
    "# If using Firebase token-based user management:\n",
    "firebase_token = \"<YOUR_FIREBASE_ID_TOKEN>\"\n",
    "client = NoteDxClient(base_url=BASE_URL, firebase_token=firebase_token)\n",
    "\n",
    "# Basic account info\n",
    "acct_info = client.get_account()\n",
    "print(\"Account info:\", acct_info)\n",
    "\n",
    "# List API Keys\n",
    "keys = client.list_api_keys()\n",
    "print(\"My API keys:\", keys)\n",
    "\n",
    "# Suppose the user wants to create a new live API key with metadata\n",
    "new_key_resp = client.create_api_key(\n",
    "    key_type=\"live\", metadata={\"env\": \"production\"})\n",
    "print(\"Created new key:\", new_key_resp)\n",
    "\n",
    "# Switch to using API key auth for the core endpoints\n",
    "client.set_api_key(new_key_resp[\"api_key\"])\n",
    "# Clear firebase token, if desired\n",
    "client.set_firebase_token(None)\n",
    "\n",
    "# Process an audio job\n",
    "audio_job_resp = client.process_audio(\n",
    "    visitType=\"initialEncounter\",\n",
    "    recordingType=\"dictation\",\n",
    "    lang=\"en\",\n",
    "    template=\"primaryCare\",\n",
    "    patient_consent=False,\n",
    "    custom={\"source\": \"clinic1\"}\n",
    ")\n",
    "print(\"Audio job response:\", audio_job_resp)\n",
    "print(\"Upload your .mp3 file to this presigned URL:\",\n",
    "      audio_job_resp[\"presigned_url\"])"
   ]
  }
 ],
 "metadata": {
  "language_info": {
   "name": "python"
  }
 },
 "nbformat": 4,
 "nbformat_minor": 2
}
